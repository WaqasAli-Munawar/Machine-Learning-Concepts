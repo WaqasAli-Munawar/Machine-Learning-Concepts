{
 "cells": [
  {
   "cell_type": "markdown",
   "metadata": {},
   "source": [
    "### Machine Learning Concepts Every Data Scientist Should Know"
   ]
  },
  {
   "cell_type": "markdown",
   "metadata": {},
   "source": [
    "**Machine Learning** is a very broad field. **Linear Algebra**, **Programming**, **Analytical Skills**, **Statistics**, and **Algorithms** are the primary tools of **Machine Learning**. If we will go more deep inside the **Machine Learning** concepts, we will get confused about what to learn first or what not to. So here, we will discuss the most important **Machine Learning** concepts, which we need to keep as must-know concepts in machine learning."
   ]
  },
  {
   "cell_type": "markdown",
   "metadata": {},
   "source": [
    "### The Most Important Concepts in Machine Learning\n",
    "\n",
    "All Machine Learning concepts, that we are explaining below are not based on the order of their rank or weightage in Machine Learning. Just keep in mind that every concept is more important than the others. So while learning Machine Learning we just can’t miss these concepts:"
   ]
  },
  {
   "cell_type": "markdown",
   "metadata": {},
   "source": [
    "### 1. Pipelines\n",
    "\n",
    "A sequence of data processing components is called a **Data Pipeline**. Pipelines are very common in Machine Learning systems since there is a lot of data to manipulate and many data transformations to apply. Components typically run asynchronously.\n",
    "\n",
    "* Each component pulls in a large amount of data, processes it, and splits out the result in another data store. \n",
    "* Later, the next component in the pipeline pulls this data and splits out its output. \n",
    "* Each component is fairly self-contained: the interface between components is simply the data store.\n",
    "\n",
    "This makes a system to grasp, and different teams can focus on different components. Moreover, if a component breaks down, the downstream components can often continue to run normally by just using the last output from the broken component. This makes the architecture quite robust."
   ]
  },
  {
   "cell_type": "markdown",
   "metadata": {},
   "source": [
    "### 2. Cross-Validation\n",
    "\n",
    "One way to evaluate our machine learning model would be to use the `train_test_split()` function to split the training set into a smaller test set and a validation set, then train models against the test set and evaluate them against the validation set. It’s a bit of work, but nothing too difficult, and it would work fairly well.\n",
    "\n",
    "A great alternative is to use the **cross-validation** feature provided by **Scikit-Learn**. Cross-Validation works by splitting the training set into `10` distinct subsets called **folds**. Then it trains and evaluates a Machine Learning model `10` times, picking a different fold for evaluation every time and training on the other `9` folds."
   ]
  },
  {
   "cell_type": "markdown",
   "metadata": {},
   "source": [
    "### 3. Grid Search\n",
    "\n",
    "One option would be to fiddle with the hyperparameters manually until we find a great combination of hyperparameter values. This would be very tedious work, and we may have time to explore many combinations. Instead, we should get **Scikit-Learn’s GridSearchCV** to search for us. \n",
    "\n",
    "All we need to do to tell it which hyperparameters we want it to experiment, which and what values to try out, and it will use cross-validation to evaluate all the possible combinations of hyperparameter values. "
   ]
  },
  {
   "attachments": {
    "image.png": {
     "image/png": "[encoded data removed]"
    }
   },
   "cell_type": "markdown",
   "metadata": {},
   "source": [
    "### 4. Creating our Own Algorithms\n",
    "\n",
    "![image.png](attachment:image.png)\n",
    "\n",
    "If we are using **Scikit-Learn**, we can easily use a lot of algorithms that are already made by some famous Researchers, Data Scientists, and other Machine Learning experts. Have we ever thought of building our algorithm instead of using a module like Scikit-Learn?\n",
    "\n",
    "All the Machine Learning Algorithms that Scikit-Learn provides are easy to use but to be a Machine Learning Expert in an organization like **Google** and **Microsoft**, we need to build our algorithms instead of using any package so that we could easily create an algorithm according to our needs."
   ]
  },
  {
   "cell_type": "markdown",
   "metadata": {},
   "source": [
    "### 5. Training and Deploying a Machine Learning Model in a Web Application\n",
    "\n",
    "When we train a machine learning model, we also think about how we will deploy a machine learning model to serve our trained model to the available users. \n",
    "* Training a model is the most important part of machine learning but, deploying a model is a different art because we have to think a lot in the process of how we will make available our machine learning application to our users."
   ]
  },
  {
   "cell_type": "code",
   "execution_count": null,
   "metadata": {},
   "outputs": [],
   "source": []
  }
 ],
 "metadata": {
  "kernelspec": {
   "display_name": "Python 3",
   "language": "python",
   "name": "python3"
  },
  "language_info": {
   "codemirror_mode": {
    "name": "ipython",
    "version": 3
   },
   "file_extension": ".py",
   "mimetype": "text/x-python",
   "name": "python",
   "nbconvert_exporter": "python",
   "pygments_lexer": "ipython3",
   "version": "3.7.6"
  }
 },
 "nbformat": 4,
 "nbformat_minor": 4
}
